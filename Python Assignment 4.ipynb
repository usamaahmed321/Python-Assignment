{
 "cells": [
  {
   "cell_type": "code",
   "execution_count": 1,
   "metadata": {},
   "outputs": [
    {
     "name": "stdout",
     "output_type": "stream",
     "text": [
      "Paul\n",
      "Walker\n",
      "26\n",
      "newyork\n",
      "high academic\n",
      "None\n"
     ]
    }
   ],
   "source": [
    "my_dict = {'first name':'Paul','last name':'Walker','age': 26,'city':'newyork'}\n",
    "print(my_dict['first name'])\n",
    "print(my_dict['last name'])\n",
    "print(my_dict.get('age'))\n",
    "print(my_dict.get('city'))\n",
    "my_dict = {'qualification':'secondary'}\n",
    "my_dict['qualification'] = 'high academic'\n",
    "print(my_dict.get('qualification'))\n",
    "del my_dict['qualification']\n",
    "print(my_dict.get('qualification'))"
   ]
  },
  {
   "cell_type": "code",
   "execution_count": 2,
   "metadata": {},
   "outputs": [
    {
     "name": "stdout",
     "output_type": "stream",
     "text": [
      "Newyork\n",
      "America\n",
      "8.623 million\n",
      "It is home to the largest ethnic Chinese population outside of Asia\n",
      "Dehli\n",
      "India\n",
      "18.98 million\n",
      "Dehli is the home to the largest market of spices in Asia\n",
      "paris\n",
      "France\n",
      "2.141 million\n",
      "Paris is known as city of light\n"
     ]
    }
   ],
   "source": [
    "cities = [\n",
    "{\n",
    "    \"city\":'Newyork',\n",
    "    \"country\":'America',\n",
    "    \"population\":'8.623 million',\n",
    "    \"fact\":'It is home to the largest ethnic Chinese population outside of Asia'\n",
    "},\n",
    "    { \"city\":'Dehli',\n",
    "    \"country\":'India',\n",
    "    \"population\":'18.98 million',\n",
    "    \"fact\":'Dehli is the home to the largest market of spices in Asia'\n",
    "    },\n",
    "    { \"city\":'paris',\n",
    "    \"country\":'France',\n",
    "    \"population\":'2.141 million',\n",
    "    \"fact\":'Paris is known as city of light'\n",
    "    }\n",
    "]\n",
    "print(cities[0][\"city\"])\n",
    "print(cities[0][\"country\"])\n",
    "print(cities[0][\"population\"])\n",
    "print(cities[0][\"fact\"])\n",
    "\n",
    "print(cities[1][\"city\"])\n",
    "print(cities[1][\"country\"])\n",
    "print(cities[1][\"population\"])\n",
    "print(cities[1][\"fact\"])\n",
    "\n",
    "print(cities[2][\"city\"])\n",
    "print(cities[2][\"country\"])\n",
    "print(cities[2][\"population\"])\n",
    "print(cities[2][\"fact\"])"
   ]
  },
  {
   "cell_type": "code",
   "execution_count": 3,
   "metadata": {},
   "outputs": [
    {
     "name": "stdout",
     "output_type": "stream",
     "text": [
      "please enter your age: 14\n",
      "Ticket is 15$\n"
     ]
    }
   ],
   "source": [
    "age=int(input(\"please enter your age: \"))\n",
    "if age > 12:\n",
    "    print (\"Ticket is 15$\")\n",
    "elif age > 3:\n",
    "    print (\"Ticket is 10$\")\n",
    "else:\n",
    "    print (\"Ticket is free\")"
   ]
  },
  {
   "cell_type": "code",
   "execution_count": 4,
   "metadata": {},
   "outputs": [
    {
     "name": "stdout",
     "output_type": "stream",
     "text": [
      "The Three Musketeers is one of my favourite books.\n"
     ]
    }
   ],
   "source": [
    "def favourite_book(tittle):\n",
    "    \"\"\"Display a message about someone's favourite book.\"\"\"\n",
    "    print(tittle + \"is one of my favourite books.\")\n",
    "favourite_book('The Three Musketeers ')"
   ]
  },
  {
   "cell_type": "code",
   "execution_count": 5,
   "metadata": {},
   "outputs": [
    {
     "name": "stdout",
     "output_type": "stream",
     "text": [
      "Hello!, What is your name\n",
      "Usama\n",
      "Number I am thinking of a number between 1 and 30  Usama\n",
      "Take a guess. \n",
      "20\n",
      "Your guess is greator\n",
      "Take a guess. \n",
      "10\n",
      "Your guess is smaller\n",
      "Take a guess. \n",
      "15\n",
      "Your guess is greator\n",
      "Wrong! Unluckly, The number was:  11\n"
     ]
    }
   ],
   "source": [
    "import random\n",
    "numofguesses = 0\n",
    "\n",
    "print(\"Hello!, What is your name\")\n",
    "name = input()\n",
    "\n",
    "number = random.randint(1,30)\n",
    "print(\"Number I am thinking of a number between 1 and 30 \" ,name)\n",
    "\n",
    "while numofguesses < 3:\n",
    "    print(\"Take a guess. \")\n",
    "    guess = input()\n",
    "    guess = int(guess)\n",
    "\n",
    "    numofguesses = numofguesses + 1\n",
    "    if guess < number:\n",
    "        print(\"Your guess is smaller\")\n",
    "    if guess > number:\n",
    "        print(\"Your guess is greator\")\n",
    "    if guess == number:\n",
    "        break\n",
    "if guess == number:\n",
    "    numofguesses = str(numofguesses)\n",
    "    print(\"Welldone \" ,name ,\"You guessed the number in: \" , numofguesses)\n",
    "    \n",
    "if guess !=number:\n",
    "    number = str(number)\n",
    "    print(\"Wrong! Unluckly, The number was: \" ,number)"
   ]
  },
  {
   "cell_type": "code",
   "execution_count": null,
   "metadata": {},
   "outputs": [],
   "source": []
  }
 ],
 "metadata": {
  "kernelspec": {
   "display_name": "Python 3",
   "language": "python",
   "name": "python3"
  },
  "language_info": {
   "codemirror_mode": {
    "name": "ipython",
    "version": 3
   },
   "file_extension": ".py",
   "mimetype": "text/x-python",
   "name": "python",
   "nbconvert_exporter": "python",
   "pygments_lexer": "ipython3",
   "version": "3.7.4"
  }
 },
 "nbformat": 4,
 "nbformat_minor": 2
}
