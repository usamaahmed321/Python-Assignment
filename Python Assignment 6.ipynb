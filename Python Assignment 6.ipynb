{
 "cells": [
  {
   "cell_type": "markdown",
   "metadata": {},
   "source": [
    "# Question 1\n",
    "\n",
    "## Define Object Oriented Programming Language?\n",
    "\n",
    "### Answer:- Object Oriented Programming(OOP) is a programming language model where programs are organized around data, or objects, rather than functions and logic."
   ]
  },
  {
   "cell_type": "markdown",
   "metadata": {},
   "source": [
    "# Question 2\n",
    "\n",
    "## List Down The Benefits of OOP?\n",
    "\n",
    "### Answer:- Following are the benefits of OOP:-\n",
    "* Its provide a clear modular structure for programs which makes it good for defining abstract datatypes in which implementation details are hidden.\n",
    "* Objects can also be reused within an across application. The reuse of software also lower the cost of development.\n",
    "* Its makes software easier to maintain.\n",
    "* Reuse also enables faster development. Object Oriented Programming Language come with rich libraries of objects, and code developed during projects is also reusable in future projects."
   ]
  },
  {
   "cell_type": "markdown",
   "metadata": {},
   "source": [
    "# Question 3\n",
    "\n",
    "## Differentiate between Functions and Method?\n",
    "\n",
    "#### Answer:- Method and a Function are same with different terms:\n",
    "* A Method is a procedure or function in Object Oriented Programming.\n",
    "* A function is a group of reusable code which can be called anywhere in the program. This eleminates the need for writing the same code again and again. It helps programmers in writing modular codes."
   ]
  },
  {
   "cell_type": "markdown",
   "metadata": {},
   "source": [
    "# Question 4\n",
    "\n",
    "## Define the following terms:\n",
    "1. Class\n",
    "1. Object\n",
    "1. Attribute\n",
    "1. Behavior\n",
    "\n",
    "#### Answer:-\n",
    "\n",
    "##### Class:-\n",
    "In Object Oriented Programming, a class is an extensible program-code-template for creating objects, providing initial values for state and implementations of behavior.\n",
    "##### Object:-\n",
    "In object Oriented Programming, Object are the thing you thing about first in designing a program and they are also the units of code that are evantually derived from the process.\n",
    "##### Attribute:-\n",
    "An Attribute is a specifications that defines a property of an object, element, or file. It may also refer to or set the specific value for given instance of such.\n",
    "##### Behavior:-\n",
    "The system's modules are behavior/programs/plans/scenarios, which can be viewed externally as \"Programs running in parallel, i.e., simultaneously\", or as \"Rules that continously govern the execution\". These modules are called Behavior Threads. "
   ]
  },
  {
   "cell_type": "code",
   "execution_count": 1,
   "metadata": {},
   "outputs": [
    {
     "name": "stdout",
     "output_type": "stream",
     "text": [
      "Vigo \n",
      " 1997 \n",
      " Black \n",
      " manual as well as \n",
      " Auto\n",
      "\t\t================\n",
      "vigo135 gig \n",
      " 2000 \n",
      " Black \n",
      " manual as well as \n",
      " Auto\n",
      "\t\t================\n",
      "Vigo \n",
      " 1997 \n",
      " Black \n",
      " No Auto Facility \n",
      " But Manual\n",
      "\t\t================\n",
      "Vigo \n",
      " 1997 \n",
      " Red \n",
      " Auto \n",
      " manual as well as\n",
      "\t\t=================\n",
      "Honda City \n",
      " 2015 \n",
      " Dark Blue \n",
      " Auto fascilities \n",
      " As well as Manual\n"
     ]
    }
   ],
   "source": [
    "class car():\n",
    "    def __init__(self,model,color,name,auto,manual):\n",
    "        self.model = model\n",
    "        self.color = color\n",
    "        self.name = name\n",
    "        self.auto = auto\n",
    "        self.manual = manual\n",
    "        \n",
    "    def modelname(self,newmodel,newname):\n",
    "        self.model = newmodel\n",
    "        self.name = newname\n",
    "        \n",
    "    def automanual(self,newauto,newmanual):\n",
    "        self.auto = newauto\n",
    "        self.manual = newmanual\n",
    "        \n",
    "    def carcolor(self,newcolor):\n",
    "        self.color = newcolor\n",
    "        \n",
    "        \n",
    "car1 = car(1997,'Black','Vigo','Auto','manual as well as')\n",
    "print(car1.name,'\\n',car1.model,'\\n',car1.color,'\\n',car1.manual,'\\n',car1.auto)\n",
    "\n",
    "car2 = car(1997,'Black','Vigo','Auto','manual as well as')\n",
    "car2.modelname(2000,'vigo135 gig')\n",
    "print(\"\\t\\t================\")\n",
    "print(car2.name,'\\n',car2.model,'\\n',car2.color,'\\n',car2.manual,'\\n',car2.auto)\n",
    "\n",
    "car3 = car(1997,'Black','Vigo','Auto','manual as well as')\n",
    "car3.automanual('No Auto Facility','But Manual')\n",
    "print(\"\\t\\t================\")\n",
    "print(car3.name,'\\n',car3.model,'\\n',car3.color,'\\n',car3.auto,'\\n',car3.manual)\n",
    "\n",
    "car4 = car(1997,'Black','Vigo','Auto','manual as well as')\n",
    "car4.carcolor('Red')\n",
    "print(\"\\t\\t================\")\n",
    "print(car4.name,'\\n',car4.model,'\\n',car4.color,'\\n',car4.auto,'\\n',car4.manual)\n",
    "\n",
    "car5 = car(1997,'Black','Vigo','Auto','manual as well as')\n",
    "car5.modelname(2015,'Honda City')\n",
    "car5.automanual('Auto fascilities','As well as Manual')\n",
    "car5.carcolor('Dark Blue')\n",
    "print(\"\\t\\t=================\")\n",
    "print(car5.name,'\\n',car5.model,'\\n',car5.color,'\\n',car5.auto,'\\n',car5.manual)\n"
   ]
  },
  {
   "cell_type": "code",
   "execution_count": null,
   "metadata": {},
   "outputs": [],
   "source": []
  }
 ],
 "metadata": {
  "kernelspec": {
   "display_name": "Python 3",
   "language": "python",
   "name": "python3"
  },
  "language_info": {
   "codemirror_mode": {
    "name": "ipython",
    "version": 3
   },
   "file_extension": ".py",
   "mimetype": "text/x-python",
   "name": "python",
   "nbconvert_exporter": "python",
   "pygments_lexer": "ipython3",
   "version": "3.7.4"
  }
 },
 "nbformat": 4,
 "nbformat_minor": 2
}
