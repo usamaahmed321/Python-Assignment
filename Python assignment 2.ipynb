{
 "cells": [
  {
   "cell_type": "code",
   "execution_count": 2,
   "metadata": {
    "scrolled": true
   },
   "outputs": [
    {
     "name": "stdout",
     "output_type": "stream",
     "text": [
      "Enter marks of the first subject: 91\n",
      "Enter marks of the second subject: 92\n",
      "Enter marks of the third subject: 93\n",
      "Enter marks of the fourth subject: 94\n",
      "Enter marks of the fifth subject: 95\n",
      "Grade: A\n"
     ]
    }
   ],
   "source": [
    "sub1=int(input(\"Enter marks of the first subject: \"))\n",
    "sub2=int(input(\"Enter marks of the second subject: \"))\n",
    "sub3=int(input(\"Enter marks of the third subject: \"))\n",
    "sub4=int(input(\"Enter marks of the fourth subject: \"))\n",
    "sub5=int(input(\"Enter marks of the fifth subject: \"))\n",
    "avg=(sub1+sub2+sub3+sub4+sub5)/5\n",
    "if(avg>=90):\n",
    "    print(\"Grade: A\")\n",
    "elif(avg>=80):\n",
    "    print(\"Grade: B\")\n",
    "elif(avg>=70):\n",
    "    print(\"Grade: C\")\n",
    "elif(avg>=60):\n",
    "    print(\"Grade: D\")\n",
    "else:\n",
    "    print(\"Grade: F\")\n",
    "    "
   ]
  },
  {
   "cell_type": "code",
   "execution_count": 3,
   "metadata": {},
   "outputs": [
    {
     "name": "stdout",
     "output_type": "stream",
     "text": [
      "enter a number:6\n",
      "This is an even number.\n"
     ]
    }
   ],
   "source": [
    "num=int(input(\"enter a number:\"))\n",
    "mod=num % 2\n",
    "if mod > 0:\n",
    "    print(\"This is an odd number.\")\n",
    "else:\n",
    "    print(\"This is an even number.\")\n",
    "    "
   ]
  },
  {
   "cell_type": "code",
   "execution_count": 4,
   "metadata": {},
   "outputs": [
    {
     "name": "stdout",
     "output_type": "stream",
     "text": [
      "The length of list is: 10\n"
     ]
    }
   ],
   "source": [
    "n= len([10, 20, 30, 40, 50, 60, 70, 80, 90, 100])\n",
    "print (\"The length of list is:\",n)"
   ]
  },
  {
   "cell_type": "code",
   "execution_count": 9,
   "metadata": {},
   "outputs": [
    {
     "name": "stdout",
     "output_type": "stream",
     "text": [
      "how many numbers:5\n",
      "enter number10\n",
      "enter number20\n",
      "enter number30\n",
      "enter number40\n",
      "enter number50\n",
      "sum of elements in given list is: 150\n"
     ]
    }
   ],
   "source": [
    "lst=[]\n",
    "num= int(input('how many numbers:'))\n",
    "for n in range(num):\n",
    "    numbers=int(input('enter number'))\n",
    "    lst.append(numbers)\n",
    "print(\"sum of elements in given list is:\", sum(lst))\n"
   ]
  },
  {
   "cell_type": "code",
   "execution_count": 10,
   "metadata": {},
   "outputs": [
    {
     "name": "stdout",
     "output_type": "stream",
     "text": [
      "how many numbers:10\n",
      "enter number67\n",
      "enter number98\n",
      "enter number75\n",
      "enter number876\n",
      "enter number875\n",
      "enter number65\n",
      "enter number34\n",
      "enter number67\n",
      "enter number02\n",
      "enter number65\n",
      "Maximum element in the list is: 876\n"
     ]
    }
   ],
   "source": [
    "lst=[]\n",
    "num=int(input('how many numbers:'))\n",
    "for n in range(num):\n",
    "    numbers=int(input('enter number'))\n",
    "    lst.append(numbers)\n",
    "print(\"Maximum element in the list is:\",max(lst))\n"
   ]
  },
  {
   "cell_type": "code",
   "execution_count": 11,
   "metadata": {},
   "outputs": [
    {
     "name": "stdout",
     "output_type": "stream",
     "text": [
      "1\n",
      "3\n"
     ]
    }
   ],
   "source": [
    "a=[1, 3, 5, 7, 9, 87, 65, 45, 67, 78]\n",
    "for i in a:\n",
    "    if i<5:\n",
    "        print(i)"
   ]
  },
  {
   "cell_type": "code",
   "execution_count": null,
   "metadata": {},
   "outputs": [],
   "source": []
  }
 ],
 "metadata": {
  "kernelspec": {
   "display_name": "Python 3",
   "language": "python",
   "name": "python3"
  },
  "language_info": {
   "codemirror_mode": {
    "name": "ipython",
    "version": 3
   },
   "file_extension": ".py",
   "mimetype": "text/x-python",
   "name": "python",
   "nbconvert_exporter": "python",
   "pygments_lexer": "ipython3",
   "version": "3.7.4"
  }
 },
 "nbformat": 4,
 "nbformat_minor": 2
}
