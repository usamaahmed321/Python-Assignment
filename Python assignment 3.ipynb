{
 "cells": [
  {
   "cell_type": "code",
   "execution_count": 1,
   "metadata": {},
   "outputs": [
    {
     "name": "stdout",
     "output_type": "stream",
     "text": [
      "Select Operation.\n",
      "1.Add\n",
      "2.Subtract\n",
      "3.multiply\n",
      "4.Divide\n",
      "Enter choice(1/2/3/4:4\n",
      "Enter first number:51\n",
      "enter second number:9\n",
      "51.0 / 9.0 = 5.666666666666667\n"
     ]
    }
   ],
   "source": [
    "def add(x,y):\n",
    "    return x+y\n",
    "def subtract(x,y):\n",
    "    return x-y\n",
    "def multiply(x,y):\n",
    "    return x*y\n",
    "def divide(x,y):\n",
    "    return x/y\n",
    "print(\"Select Operation.\")\n",
    "print(\"1.Add\")\n",
    "print(\"2.Subtract\")\n",
    "print(\"3.multiply\")\n",
    "print(\"4.Divide\")\n",
    "choice = input(\"Enter choice(1/2/3/4:\")\n",
    "num1 = float(input(\"Enter first number:\"))\n",
    "num2 = float(input(\"enter second number:\"))\n",
    "if choice == '1':\n",
    "    print(num1,\"+\",num2,\"=\", add(num1,num2))\n",
    "elif choice == '2':\n",
    "    print(num1,\"-\",num2,\"=\", subtract(num1,num2))\n",
    "elif choice == '3':\n",
    "    print(num1,\"*\",num2,\"=\", multiply(num1,num2))\n",
    "elif choice == '4':\n",
    "    print(num1,\"/\",num2,\"=\", divide(num1,num2))\n",
    "else:\n",
    "    print(\"Invalid input\")"
   ]
  },
  {
   "cell_type": "code",
   "execution_count": 2,
   "metadata": {},
   "outputs": [
    {
     "name": "stdout",
     "output_type": "stream",
     "text": [
      "Checking if 4 exist in list:\n",
      "Element Exists\n"
     ]
    }
   ],
   "source": [
    "test_list = [1, 6, 3, 5, 3, 4]\n",
    "print(\"Checking if 4 exist in list:\")\n",
    "for i in test_list:\n",
    "    if(i == 4):\n",
    "        print (\"Element Exists\")\n",
    "        "
   ]
  },
  {
   "cell_type": "code",
   "execution_count": 3,
   "metadata": {},
   "outputs": [
    {
     "name": "stdout",
     "output_type": "stream",
     "text": [
      "{0: 10, 1: 20}\n",
      "{0: 10, 1: 20, 2: 30}\n"
     ]
    }
   ],
   "source": [
    "d = {0:10, 1:20}\n",
    "print(d)\n",
    "d.update ({2:30})\n",
    "print(d)"
   ]
  },
  {
   "cell_type": "code",
   "execution_count": 4,
   "metadata": {},
   "outputs": [
    {
     "name": "stdout",
     "output_type": "stream",
     "text": [
      "100\n"
     ]
    }
   ],
   "source": [
    "my_dict = {'datal':10,'data2':50,'data3':40}\n",
    "print(sum(my_dict.values()))\n"
   ]
  },
  {
   "cell_type": "code",
   "execution_count": 6,
   "metadata": {},
   "outputs": [
    {
     "name": "stdout",
     "output_type": "stream",
     "text": [
      "[-20]\n"
     ]
    }
   ],
   "source": [
    "def repeat (x):\n",
    "    _size = len(x)\n",
    "    repeated = []\n",
    "    for i in range(_size):\n",
    "        k= i+1\n",
    "        for j in range(k, _size):\n",
    "            if x[i] == x[j] and x[i] not in repeated:\n",
    "                repeated.append(x[i])\n",
    "    return repeated\n",
    "list1 = [10, 20, 30,40, 50, 60, -20, -30, 80, 70, -20]\n",
    "print (repeat(list1))"
   ]
  },
  {
   "cell_type": "code",
   "execution_count": 8,
   "metadata": {},
   "outputs": [
    {
     "name": "stdout",
     "output_type": "stream",
     "text": [
      "Key is present in the dictionary\n",
      "Key is not present in the dictionary\n"
     ]
    }
   ],
   "source": [
    "d = {1: 10, 2: 20, 3: 30, 4: 40 , 5: 50, 6: 60}\n",
    "def is_key_present(x):\n",
    "    if x in d:\n",
    "        print('Key is present in the dictionary')\n",
    "    else:\n",
    "        print('Key is not present in the dictionary')\n",
    "is_key_present(5)\n",
    "is_key_present(9)"
   ]
  },
  {
   "cell_type": "code",
   "execution_count": null,
   "metadata": {},
   "outputs": [],
   "source": []
  }
 ],
 "metadata": {
  "kernelspec": {
   "display_name": "Python 3",
   "language": "python",
   "name": "python3"
  },
  "language_info": {
   "codemirror_mode": {
    "name": "ipython",
    "version": 3
   },
   "file_extension": ".py",
   "mimetype": "text/x-python",
   "name": "python",
   "nbconvert_exporter": "python",
   "pygments_lexer": "ipython3",
   "version": "3.7.4"
  }
 },
 "nbformat": 4,
 "nbformat_minor": 2
}
