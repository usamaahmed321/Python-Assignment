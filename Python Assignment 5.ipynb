{
 "cells": [
  {
   "cell_type": "code",
   "execution_count": 1,
   "metadata": {},
   "outputs": [
    {
     "name": "stdout",
     "output_type": "stream",
     "text": [
      "Input a number to compute the factorial:34\n",
      "295232799039604140847618609643520000000\n"
     ]
    }
   ],
   "source": [
    "def factorial(n):\n",
    "    if n == 0:\n",
    "        return 1\n",
    "    else:\n",
    "        return n * factorial(n-1)\n",
    "n = int(input(\"Input a number to compute the factorial:\"))\n",
    "print (factorial(n))"
   ]
  },
  {
   "cell_type": "code",
   "execution_count": 2,
   "metadata": {},
   "outputs": [
    {
     "name": "stdout",
     "output_type": "stream",
     "text": [
      "Original String: The Quick Brown Fox\n",
      "No of Upper Case Characters : 4\n",
      "No of Lower Case Characters : 12\n"
     ]
    }
   ],
   "source": [
    "def string_test(s):\n",
    "    d= {\"UPPER_CASE\":0, \"LOWER_CASE\":0}\n",
    "    for c in s:\n",
    "        if c.isupper():\n",
    "            d[\"UPPER_CASE\"]+=1\n",
    "        elif c.islower():\n",
    "            d[\"LOWER_CASE\"]+=1\n",
    "        else:\n",
    "            pass\n",
    "    print (\"Original String:\",s)\n",
    "    print (\"No of Upper Case Characters :\", d[\"UPPER_CASE\"])\n",
    "    print (\"No of Lower Case Characters :\", d[\"LOWER_CASE\"])\n",
    "string_test('The Quick Brown Fox')"
   ]
  },
  {
   "cell_type": "code",
   "execution_count": 3,
   "metadata": {},
   "outputs": [
    {
     "name": "stdout",
     "output_type": "stream",
     "text": [
      "10 56 76 "
     ]
    }
   ],
   "source": [
    "list = [10, 33, 56, 76, 3]\n",
    "for num in list:\n",
    "    if num % 2 == 0:\n",
    "        print (num, end = \" \")"
   ]
  },
  {
   "cell_type": "code",
   "execution_count": 4,
   "metadata": {},
   "outputs": [
    {
     "name": "stdout",
     "output_type": "stream",
     "text": [
      "True\n"
     ]
    }
   ],
   "source": [
    "def isPalindrome(string):\n",
    "    left_pos = 0\n",
    "    right_pos = len(string) - 1\n",
    "    \n",
    "    while right_pos >= left_pos:\n",
    "        if not string[left_pos] == string[right_pos]:\n",
    "            return False\n",
    "        left_pos += 1\n",
    "        right_pos -= 1\n",
    "    return True\n",
    "print(isPalindrome('MADAM'))"
   ]
  },
  {
   "cell_type": "code",
   "execution_count": 5,
   "metadata": {},
   "outputs": [
    {
     "name": "stdout",
     "output_type": "stream",
     "text": [
      "Enter a number: 4\n",
      "4 is not a prime a number\n",
      "2 times 2 is 4\n"
     ]
    }
   ],
   "source": [
    "num = int(input(\"Enter a number: \"))\n",
    "\n",
    "if num > 1:\n",
    "    for i in range(2,num):\n",
    "        if (num % i) == 0:\n",
    "            print(num,\"is not a prime a number\")\n",
    "            print(i,\"times\",num//i,\"is\",num)\n",
    "            break\n",
    "        else:\n",
    "            print(num,\"is a prime number\")\n",
    "        \n",
    "else:\n",
    "    print(num,\"is not a prime number\")"
   ]
  },
  {
   "cell_type": "code",
   "execution_count": null,
   "metadata": {},
   "outputs": [
    {
     "name": "stdout",
     "output_type": "stream",
     "text": [
      "Elements in our list:\n",
      "\n",
      "Options:\n",
      "1. Add Elements.\n",
      "2. Delete Element\n",
      "3. Delete All Elements\n",
      "4. Exit\n",
      "Note: Please give input in numbers e.g 1, 2, 3, 4\n",
      "Enter your choice: 1\n",
      "Enter your element: x\n",
      "\n",
      "xxxxxxxxxxxxxxxxxxxxxxxxxxxxxxxxxxxxxxxxxxxxxxxx\n",
      "\n",
      "Elements in our list:\n",
      " -> x\n",
      "\n",
      "Options:\n",
      "1. Add Elements.\n",
      "2. Delete Element\n",
      "3. Delete All Elements\n",
      "4. Exit\n",
      "Note: Please give input in numbers e.g 1, 2, 3, 4\n",
      "Enter your choice: 1\n",
      "Enter your element: butter\n",
      "\n",
      "xxxxxxxxxxxxxxxxxxxxxxxxxxxxxxxxxxxxxxxxxxxxxxxx\n",
      "\n",
      "Elements in our list:\n",
      " -> x\n",
      " -> butter\n",
      "\n",
      "Options:\n",
      "1. Add Elements.\n",
      "2. Delete Element\n",
      "3. Delete All Elements\n",
      "4. Exit\n",
      "Note: Please give input in numbers e.g 1, 2, 3, 4\n",
      "Enter your choice: 1\n",
      "Enter your element: honey\n",
      "\n",
      "xxxxxxxxxxxxxxxxxxxxxxxxxxxxxxxxxxxxxxxxxxxxxxxx\n",
      "\n",
      "Elements in our list:\n",
      " -> x\n",
      " -> butter\n",
      " -> honey\n",
      "\n",
      "Options:\n",
      "1. Add Elements.\n",
      "2. Delete Element\n",
      "3. Delete All Elements\n",
      "4. Exit\n",
      "Note: Please give input in numbers e.g 1, 2, 3, 4\n",
      "Enter your choice: 1\n",
      "Enter your element: cooking oil\n",
      "\n",
      "xxxxxxxxxxxxxxxxxxxxxxxxxxxxxxxxxxxxxxxxxxxxxxxx\n",
      "\n",
      "Elements in our list:\n",
      " -> x\n",
      " -> butter\n",
      " -> honey\n",
      " -> cooking oil\n",
      "\n",
      "Options:\n",
      "1. Add Elements.\n",
      "2. Delete Element\n",
      "3. Delete All Elements\n",
      "4. Exit\n",
      "Note: Please give input in numbers e.g 1, 2, 3, 4\n"
     ]
    }
   ],
   "source": [
    "elements = []\n",
    "\n",
    "while True:\n",
    "    \n",
    "    print(\"Elements in our list:\")\n",
    "    for element in elements:\n",
    "        print(\" -> \" + element)\n",
    "        \n",
    "    print(\"\\nOptions:\")\n",
    "    print(\"1. Add Elements.\")\n",
    "    print(\"2. Delete Element\")\n",
    "    print(\"3. Delete All Elements\")\n",
    "    print(\"4. Exit\")\n",
    "    print(\"Note: Please give input in numbers e.g 1, 2, 3, 4\")\n",
    "    \n",
    "    inp = input(\"Enter your choice: \")\n",
    "    \n",
    "    if inp == '1':\n",
    "        elements.append(input(\"Enter your element: \"))\n",
    "    elif inp == '2':\n",
    "        elements.remove(input(\"Enter elements to delete: \"))\n",
    "    elif inp == '3':\n",
    "        elements.clear()\n",
    "    elif inp == '4':\n",
    "        break\n",
    "    else:\n",
    "        print(\"Invalid Input\")\n",
    "        \n",
    "    print(\"\\nxxxxxxxxxxxxxxxxxxxxxxxxxxxxxxxxxxxxxxxxxxxxxxxx\\n\")"
   ]
  },
  {
   "cell_type": "code",
   "execution_count": null,
   "metadata": {},
   "outputs": [],
   "source": []
  }
 ],
 "metadata": {
  "kernelspec": {
   "display_name": "Python 3",
   "language": "python",
   "name": "python3"
  },
  "language_info": {
   "codemirror_mode": {
    "name": "ipython",
    "version": 3
   },
   "file_extension": ".py",
   "mimetype": "text/x-python",
   "name": "python",
   "nbconvert_exporter": "python",
   "pygments_lexer": "ipython3",
   "version": "3.7.4"
  }
 },
 "nbformat": 4,
 "nbformat_minor": 2
}
